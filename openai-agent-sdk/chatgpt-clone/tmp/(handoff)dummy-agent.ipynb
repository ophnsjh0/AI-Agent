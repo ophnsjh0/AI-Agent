{
 "cells": [
  {
   "cell_type": "code",
   "execution_count": 1,
   "id": "b474c191",
   "metadata": {},
   "outputs": [],
   "source": [
    "from typing import Any\n",
    "\n",
    "\n",
    "from agents import Agent, Runner, SQLiteSession\n",
    "\n",
    "session = SQLiteSession(\"user-100\", \"ai-memory.db\")\n",
    "\n",
    "\n",
    "geaography_agent = Agent(\n",
    "    name=\"Geo Expert Agent\",\n",
    "    instructions=\"You are a expert in geography, you answer questions related to them.\",\n",
    "    handoff_description=\"Use this to answer geography related questions.\",\n",
    ")\n",
    "economics_agent = Agent(\n",
    "    name=\"Economics Expert Agent\",\n",
    "    instructions=\"You are a expert in economics, you answer questions related to them.\",\n",
    "    handoff_description=\"Use this to answer economics questions.\",\n",
    ")\n",
    "\n",
    "main_agent = Agent(\n",
    "    name=\"Main Agent\",\n",
    "    instructions=\"You are a user facing agent. Transfer to the agent most capable of answering the user's question.\",\n",
    "    handoffs=[\n",
    "        economics_agent,\n",
    "        geaography_agent,\n",
    "    ],\n",
    ")"
   ]
  },
  {
   "cell_type": "code",
   "execution_count": 2,
   "id": "0bcce48f",
   "metadata": {},
   "outputs": [
    {
     "name": "stdout",
     "output_type": "stream",
     "text": [
      "Economics Expert Agent\n",
      "Countries sell bonds primarily to raise money to finance their spending and investment needs. Here’s a detailed explanation:\n",
      "\n",
      "1. **To Fund Budget Deficits:**  \n",
      "When a government spends more money than it collects in tax revenue (a budget deficit), it needs to cover the gap. Selling bonds allows the government to borrow money from investors to finance these deficits.\n",
      "\n",
      "2. **To Manage Cash Flow:**  \n",
      "Even if a country’s budget is balanced over the year, cash inflows and outflows might not match perfectly. Governments sell bonds to manage short-term cash needs.\n",
      "\n",
      "3. **To Finance Projects and Investments:**  \n",
      "Large infrastructure projects, social programs, or military expenditures often require funding that exceeds yearly tax revenue. Issuing bonds helps governments obtain the necessary capital.\n",
      "\n",
      "4. **To Influence the Economy:**  \n",
      "Selling or buying government bonds is a key tool of monetary policy. For example, central banks may sell bonds to reduce the money supply (to combat inflation) or buy them to increase it (to stimulate the economy).\n",
      "\n",
      "5. **To Establish a Benchmark Yield Curve:**  \n",
      "Government bonds are considered low-risk, so their interest rates are used as benchmarks for other borrowing in the economy—helping to price corporate and municipal bonds.\n",
      "\n",
      "6. **To Provide Safe Investment Options:**  \n",
      "Government bonds are popular among investors (such as pension funds and foreign governments) looking for low-risk assets.\n",
      "\n",
      "**Example:**  \n",
      "When the U.S. government runs a deficit, the Treasury Department issues Treasury bonds, bills, and notes. Investors—domestic and foreign—buy these bonds, providing the government with cash upfront. The government promises to repay investors with interest in the future.\n",
      "\n",
      "**In short:**  \n",
      "Countries sell bonds to borrow money efficiently, fund their operations, and manage the broader economy.\n"
     ]
    }
   ],
   "source": [
    "result = await Runner.run(\n",
    "    main_agent,\n",
    "    \"Why do countries sell bonds?\",\n",
    "    session=session,\n",
    ")\n",
    "\n",
    "print(result.last_agent.name)\n",
    "print(result.final_output)"
   ]
  }
 ],
 "metadata": {
  "kernelspec": {
   "display_name": ".venv",
   "language": "python",
   "name": "python3"
  },
  "language_info": {
   "codemirror_mode": {
    "name": "ipython",
    "version": 3
   },
   "file_extension": ".py",
   "mimetype": "text/x-python",
   "name": "python",
   "nbconvert_exporter": "python",
   "pygments_lexer": "ipython3",
   "version": "3.13.7"
  }
 },
 "nbformat": 4,
 "nbformat_minor": 5
}
