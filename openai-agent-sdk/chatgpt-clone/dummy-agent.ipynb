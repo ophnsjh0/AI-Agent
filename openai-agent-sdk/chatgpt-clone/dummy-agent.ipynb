{
 "cells": [
  {
   "cell_type": "code",
   "execution_count": null,
   "id": "b474c191",
   "metadata": {},
   "outputs": [],
   "source": [
    "from agents import Agent, Runner, SQLiteSession, function_tool, trace\n",
    "from agents.extensions.visualization import draw_graph\n",
    "from pydantic import BaseModel\n",
    "\n",
    "session = SQLiteSession(\"user_444444\", \"ai-memory.db\")\n",
    "\n",
    "class Answer(BaseModel):\n",
    "    answer: str\n",
    "    background_explanation: str\n",
    "\n",
    "@function_tool\n",
    "def get_weather():\n",
    "    return \"30\"\n",
    "\n",
    "\n",
    "geaography_agent = Agent(\n",
    "    name=\"Geo Expert Agent\",\n",
    "    instructions=\"당신은 지리학 전문가이므로, 지리학 관련 질문에 답합니다.\",\n",
    "    handoff_description=\"이것을 사용하여 지리 관련 질문에 답하세요.\",\n",
    "    tools = [\n",
    "        get_weather,\n",
    "    ],\n",
    "    output_type=Answer,\n",
    ")\n",
    "economics_agent = Agent(\n",
    "    name=\"Economics Expert Agent\",\n",
    "    instructions=\"You are a expert in economics, you answer questions related to them.\",\n",
    "    handoff_description=\"Use this to answer economics questions.\",\n",
    ")\n",
    "\n",
    "main_agent = Agent(\n",
    "    name=\"Main Agent\",\n",
    "    instructions=\"귀하는 사용자와 직접 소통하는 상담원입니다. 사용자 질문에 가장 잘 답변할 수 있는 상담원에게 연결해 주세요.\",\n",
    "    handoffs=[\n",
    "        economics_agent,\n",
    "        geaography_agent,\n",
    "    ],\n",
    ")\n",
    "\n",
    "draw_graph(main_agent)"
   ]
  },
  {
   "cell_type": "code",
   "execution_count": null,
   "id": "0bcce48f",
   "metadata": {},
   "outputs": [],
   "source": [
    "with trace(\"user_444444\"):\n",
    "    result = await Runner.run(\n",
    "        main_agent,\n",
    "        \"태국 북부 지방의 주도는 어디인가요?\",\n",
    "        session=session,\n",
    "    )\n",
    "    \n",
    "    result = await Runner.run(\n",
    "        main_agent,\n",
    "        \"캄보디아 북부 지방의 주도는 어디인가요?\",\n",
    "        session=session,\n",
    "    )\n",
    "    \n",
    "    result = await Runner.run(\n",
    "        main_agent,\n",
    "        \"베트남 북부 지방의 주도는 어디인가요?\",\n",
    "        session=session,\n",
    "    )\n",
    "\n"
   ]
  }
 ],
 "metadata": {
  "kernelspec": {
   "display_name": ".venv",
   "language": "python",
   "name": "python3"
  },
  "language_info": {
   "codemirror_mode": {
    "name": "ipython",
    "version": 3
   },
   "file_extension": ".py",
   "mimetype": "text/x-python",
   "name": "python",
   "nbconvert_exporter": "python",
   "pygments_lexer": "ipython3",
   "version": "3.13.7"
  }
 },
 "nbformat": 4,
 "nbformat_minor": 5
}
