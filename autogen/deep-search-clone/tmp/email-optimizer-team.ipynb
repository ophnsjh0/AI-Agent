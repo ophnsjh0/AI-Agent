{
 "cells": [
  {
   "cell_type": "code",
   "execution_count": null,
   "id": "3b7e3df4",
   "metadata": {},
   "outputs": [],
   "source": [
    "from autogen_agentchat.teams import RoundRobinGroupChat\n",
    "from autogen_agentchat.agents import AssistantAgent\n",
    "from autogen_ext.models.openai import OpenAIChatCompletionClient\n",
    "from autogen_agentchat.conditions import MaxMessageTermination, TextMentionTermination\n",
    "from autogen_agentchat.ui import Console"
   ]
  },
  {
   "cell_type": "code",
   "execution_count": null,
   "id": "5a2a7820",
   "metadata": {},
   "outputs": [],
   "source": [
    "model = OpenAIChatCompletionClient(model=\"gpt-4o-mini\")\n",
    "\n",
    "clarity_agent = AssistantAgent(\n",
    "    \"ClarityAgent\",\n",
    "    model_client=model,\n",
    "    system_message=\"\"\"You are an expert editor focused on clarity and simplicity. \n",
    "            Your job is to eliminate ambiguity, redundancy, and make every sentence crisp and clear. \n",
    "            Don't worry about persuasion or tone — just make the message easy to read and understand.\"\"\",\n",
    ")\n",
    "\n",
    "tone_agent = AssistantAgent(\n",
    "    \"ToneAgent\",\n",
    "    model_client=model,\n",
    "    system_message=\"\"\"You are a communication coach focused on emotional tone and professionalism. \n",
    "            Your job is to make the email sound warm, confident, and human — while staying professional \n",
    "            and appropriate for the audience. Improve the emotional resonance, polish the phrasing, \n",
    "            and adjust any words that may come off as stiff, cold, or overly casual.\"\"\",\n",
    ")\n",
    "\n",
    "persuasion_agent = AssistantAgent(\n",
    "    \"PersuasionAgent\",\n",
    "    model_client=model,\n",
    "    system_message=\"\"\"You are a persuasion expert trained in marketing, behavioral psychology, \n",
    "            and copywriting. Your job is to enhance the email's persuasive power: improve call to action, structure arguments, and emphasize benefits. Remove weak or passive language.\"\"\",\n",
    ")\n",
    "\n",
    "synthesizer_agent = AssistantAgent(\n",
    "    \"SynthesizerAgent\",\n",
    "    model_client=model,\n",
    "    system_message=\"\"\"You are an advanced email-writing specialist. Your role is to read all \n",
    "            prior agent responses and revisions, and then **synthesize the best ideas** into a unified, \n",
    "            polished draft of the email. Focus on: Integrating clarity, tone, and persuasion improvements; \n",
    "            Ensuring coherence, fluency, and a natural voice; Creating a version that feels professional, \n",
    "            effective, and readable.\"\"\",\n",
    ")\n",
    "\n",
    "critic_agent = AssistantAgent(\n",
    "    \"CriticAgent\",\n",
    "    model_client=model,\n",
    "    system_message=\"\"\"You are an email quality evaluator. Your job is to perform a final review \n",
    "            of the synthesized email and determine if it meets professional standards. Review the email for: \n",
    "            Clarity and flow, appropriate professional tone, effective call-to-action, and overall coherence.\n",
    "            Be constructive but decisive. If the email has major flaws (unclear message, unprofessional tone, \n",
    "            or missing key elements), provide ONE specific improvement suggestion. If the email meets professional standards and communicates effectively, respond with 'The email meets professional standards.' followed by `TERMINATE` on a new line. You should only approve emails that are perfect enough for professional use, dont settle.\"\"\",\n",
    ")"
   ]
  },
  {
   "cell_type": "code",
   "execution_count": null,
   "id": "33f7e3ef",
   "metadata": {},
   "outputs": [],
   "source": [
    "text_termination = TextMentionTermination(\"TERMINATE\")\n",
    "max_messages_termination = MaxMessageTermination(max_messages=30)\n",
    "\n",
    "termination_condition = text_termination | max_messages_termination"
   ]
  },
  {
   "cell_type": "code",
   "execution_count": null,
   "id": "d83e2548",
   "metadata": {},
   "outputs": [],
   "source": [
    "team = RoundRobinGroupChat(\n",
    "    participants=[\n",
    "        clarity_agent,\n",
    "        tone_agent,\n",
    "        persuasion_agent,\n",
    "        synthesizer_agent,\n",
    "        critic_agent,\n",
    "    ],\n",
    "    termination_condition=termination_condition,\n",
    ")\n",
    "\n",
    "await Console(\n",
    "    team.run_stream(\n",
    "        task=\"Hi! Im hungry, buy me lunch and invest in my business. Thanks.\"\n",
    "    )\n",
    ")\n"
   ]
  }
 ],
 "metadata": {
  "kernelspec": {
   "display_name": ".venv",
   "language": "python",
   "name": "python3"
  },
  "language_info": {
   "name": "python",
   "version": "3.13.7"
  }
 },
 "nbformat": 4,
 "nbformat_minor": 5
}
