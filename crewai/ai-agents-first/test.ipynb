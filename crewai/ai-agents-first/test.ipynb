{
 "cells": [
  {
   "cell_type": "code",
   "execution_count": null,
   "id": "b11d09aa",
   "metadata": {},
   "outputs": [],
   "source": [
    "import openai\n",
    "\n",
    "client = openai.OpenAI()\n",
    "## test"
   ]
  },
  {
   "cell_type": "code",
   "execution_count": 2,
   "id": "515e6f47",
   "metadata": {},
   "outputs": [
    {
     "name": "stdout",
     "output_type": "stream",
     "text": [
      "User: hello\n",
      "AI: Hi — how can I help you today?\n",
      "User: fine\n",
      "AI: Okay — what would you like to do next?\n",
      "User: my name is shin\n",
      "AI: Nice to meet you, Shin! How can I help you today? Would you like me to call you Shin or a different name?\n",
      "User: my name ?\n",
      "AI: I don't know your name — what would you like me to call you? \n",
      "\n",
      "If you want me to use it for this conversation, tell me your name (and any preferred pronouns). Note I can't remember names across separate sessions.\n"
     ]
    }
   ],
   "source": [
    "while True:\n",
    "    message = input(\"Send a message to the LLM...\")\n",
    "    if message == \"quit\" or message == \"q\":\n",
    "        break\n",
    "    else:\n",
    "        print(f\"User: {message}\")\n",
    "        response = client.chat.completions.create(\n",
    "            model=\"gpt-5-mini\",\n",
    "            messages=[{\"role\": \"user\", \"content\": message }],\n",
    "        )\n",
    "        message = response.choices[0].message.content\n",
    "        print(f\"AI: {message}\")\n"
   ]
  }
 ],
 "metadata": {
  "kernelspec": {
   "display_name": ".venv",
   "language": "python",
   "name": "python3"
  },
  "language_info": {
   "codemirror_mode": {
    "name": "ipython",
    "version": 3
   },
   "file_extension": ".py",
   "mimetype": "text/x-python",
   "name": "python",
   "nbconvert_exporter": "python",
   "pygments_lexer": "ipython3",
   "version": "3.13.7"
  }
 },
 "nbformat": 4,
 "nbformat_minor": 5
}
